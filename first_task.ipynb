{
 "cells": [
  {
   "cell_type": "code",
   "id": "initial_id",
   "metadata": {
    "collapsed": true,
    "ExecuteTime": {
     "end_time": "2024-11-15T17:05:30.852085Z",
     "start_time": "2024-11-15T17:05:30.813540Z"
    }
   },
   "source": [
    "import pandas as pd\n",
    "from sklearn.model_selection import train_test_split\n",
    "from sklearn.preprocessing import StandardScaler, OneHotEncoder\n",
    "from sklearn.compose import ColumnTransformer\n",
    "from sklearn.metrics import accuracy_score\n",
    "import numpy as np\n",
    "\n",
    "# Шаг 1: Загрузка данных\n",
    "data = pd.read_csv('data/salary.csv')\n",
    "\n",
    "# Шаг 2: Создание целевой переменной\n",
    "# Определим порог зарплаты для бинарной классификации\n",
    "threshold = 100000\n",
    "data['HighIncome'] = (data['Salary'] > threshold).astype(int)\n",
    "\n",
    "# Шаг 3: Преобразование категориальных данных и нормализация числовых\n",
    "X = data[['Age', 'Gender', 'Education Level', 'Job Title', 'Years of Experience']]\n",
    "y = data['HighIncome']\n",
    "\n",
    "# Категориальные и числовые признаки\n",
    "categorical_features = ['Gender', 'Education Level', 'Job Title']\n",
    "numeric_features = ['Age', 'Years of Experience']\n",
    "\n",
    "# Преобразование с помощью Pipeline\n",
    "preprocessor = ColumnTransformer(\n",
    "    transformers=[\n",
    "        ('num', StandardScaler(), numeric_features),\n",
    "        ('cat', OneHotEncoder(), categorical_features)\n",
    "    ])\n",
    "\n",
    "X = preprocessor.fit_transform(X)\n",
    "\n",
    "# Шаг 4: Разделение данных\n",
    "X_train, X_test, y_train, y_test = train_test_split(X, y, test_size=0.2, random_state=42)\n",
    "\n",
    "# Сохранение обучающей и тестовой выборок в CSV\n",
    "train_data = pd.DataFrame(X_train)\n",
    "train_data['HighIncome'] = y_train.values\n",
    "train_data.to_csv('train_salary.csv', index=False)\n",
    "\n",
    "test_data = pd.DataFrame(X_test)\n",
    "test_data['HighIncome'] = y_test.values\n",
    "test_data.to_csv('test_salary.csv', index=False)\n",
    "\n",
    "# Шаг 5: Метрика качества\n",
    "# Для примера рассчитаем accuracy\n",
    "accuracy = accuracy_score(y_test, np.random.choice([0, 1], size=len(y_test)))  # заглушка\n",
    "print(\"Accuracy:\", accuracy)"
   ],
   "outputs": [
    {
     "name": "stdout",
     "output_type": "stream",
     "text": [
      "Accuracy: 0.4666666666666667\n"
     ]
    }
   ],
   "execution_count": 5
  },
  {
   "metadata": {
    "ExecuteTime": {
     "end_time": "2024-11-15T17:00:24.972315Z",
     "start_time": "2024-11-15T17:00:24.969565Z"
    }
   },
   "cell_type": "code",
   "source": "",
   "id": "80da1d1200a6a3d1",
   "outputs": [],
   "execution_count": 2
  },
  {
   "metadata": {},
   "cell_type": "code",
   "outputs": [],
   "execution_count": null,
   "source": "",
   "id": "e0e1cba9a24fcac6"
  }
 ],
 "metadata": {
  "kernelspec": {
   "display_name": "Python 3",
   "language": "python",
   "name": "python3"
  },
  "language_info": {
   "codemirror_mode": {
    "name": "ipython",
    "version": 2
   },
   "file_extension": ".py",
   "mimetype": "text/x-python",
   "name": "python",
   "nbconvert_exporter": "python",
   "pygments_lexer": "ipython2",
   "version": "2.7.6"
  }
 },
 "nbformat": 4,
 "nbformat_minor": 5
}
